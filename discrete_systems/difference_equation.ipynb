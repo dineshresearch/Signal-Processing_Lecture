{
 "cells": [
  {
   "cell_type": "markdown",
   "metadata": {
    "nbsphinx": "hidden"
   },
   "source": [
    "# Characterization of Discrete Systems\n",
    "\n",
    "*This Jupyter notebook is part of a [collection of notebooks](../index.ipynb) in the bachelors module Signals and Systems, Comunications Engineering, Universität Rostock. Please direct questions and suggestions to [Sascha.Spors@uni-rostock.de](mailto:Sascha.Spors@uni-rostock.de).*"
   ]
  },
  {
   "cell_type": "markdown",
   "metadata": {},
   "source": [
    "## Difference Equations\n",
    "\n",
    "The relation between input $x[k]$ and output $y[k] = \\mathcal{H} \\{ x[k] \\}$ of a discrete system can be described by relating actual and past samples of the input and output signal to each other. When restricting the relation to a linear superposition of these, this results in a [linear difference equation](https://en.wikipedia.org/wiki/Linear_difference_equation). The relation of difference equations to [linear time-invariant (LTI) systems](https://en.wikipedia.org/wiki/LTI_system_theory) is discussed in the following."
   ]
  },
  {
   "cell_type": "markdown",
   "metadata": {},
   "source": [
    "### Linear Time-Invariant Systems\n",
    "\n",
    "The in-/output relation of a system in terms of a linear difference equation with constant coefficients $a_n, b_m \\in \\mathbb{C}$ reads\n",
    "\n",
    "\\begin{equation}\n",
    "\\sum_{n = 0}^{N} a_n \\; y[k - n] = \\sum_{m = 0}^{M} b_m \\; x[k -m]\n",
    "\\end{equation}\n",
    "\n",
    "where the order of the difference equation is given by $N$. LTI systems are an important class of systems. In order to show that linear difference equations with constant coefficients represent LTI systems, the linearity and time-invariance property has to be checked. A system is linear when the superposition principle holds\n",
    "\n",
    "\\begin{equation}\n",
    "\\mathcal{H} \\{ A x_1[k] + B x_2[k] \\} = A \\cdot \\mathcal{H} \\{ x_1[k] \\} + B \\cdot \\mathcal{H} \\{ x_2[k] \\}\n",
    "\\end{equation}\n",
    "\n",
    "for arbitraty signals $x_1[k], x_2[k] \\in \\mathbb{C}$ and coefficients $A, B \\in \\mathbb{C}$. Above condition is fulfilled by a linear difference equation, since the [summation](https://en.wikipedia.org/wiki/Summation) on left- and right-hand side is a linear operation. A system is time-invariant when\n",
    "\n",
    "\\begin{equation}\n",
    "y[k - \\kappa] = \\mathcal{H} \\{ x[k - \\kappa] \\}\n",
    "\\end{equation}\n",
    "\n",
    "with $y[k] = \\mathcal{H} \\{ x[k] \\}$ holds for $\\kappa \\in \\mathbb{Z}$. By substitution of $k$ by $k -\\kappa$ in the linear difference equation above it is straightforward to show that the time-invariance is fulfilled."
   ]
  },
  {
   "cell_type": "markdown",
   "metadata": {},
   "source": [
    "### Computation of the Output Signal\n",
    "\n",
    "The solution of above difference equation is derived by extracting $y[k]$ from the sum on the left-hand-side and rearranging terms. This results in\n",
    "\n",
    "\\begin{equation}\n",
    "y[k] = \\frac{1}{a_0} \\left( \\sum_{m=0}^{M} b_m \\; x[k-m] - \\sum_{n=1}^{N} a_n \\; y[k-n] \\right)\n",
    "\\end{equation}\n",
    "\n",
    "for $a_0 \\neq 0$. The output signal is given by a weighted superposition of the actual and past samples of the input signal $x[k]$ and past samples of the output signal $y[k]$. The second sum is known as *recursive* part since it constitutes a feedback of past output samples. The dependency on the input samples (the first sum) is known as *non-recursive* part. For a unique solution of the difference equation, $N$ initial conditions are required. Under the assumption that the input signal of the system $x[k] = 0$ for $k < 0$ these are given by $y[0], y[-1], \\dots, y[-N + 1]$. Other cases can be handled accordingly.\n",
    "\n",
    "It can be concluded that linear difference equations with constant coefficients represent LTI systems. The coefficients together with the initial conditions characterize an LTI system fully. However, not all LTI systems can be described by linear difference equations of finite order $N$. Idealized systems may result in a linear difference equation of infinite order, for instance."
   ]
  },
  {
   "cell_type": "markdown",
   "metadata": {},
   "source": [
    "### Recursive and Non-Recursive Systems\n",
    "\n",
    "Above analysis of the solution of a linear difference equation revealed two contributions to the output signal $y[k]$: a non-recursive part which depends only on the current and past input samples $x[k]$ and a recursive part which depends on past output samples $y[k]$. A system is said to be\n",
    "\n",
    "* non-recursive if its output depends only on the input signal $x[k]$. This implies that $a_n = 0$ for $n > 0$.\n",
    "* recursive if its output depends on the input signal $x[k]$ and past output samples $y[k]$. This implies that at least one $a_n \\neq 0$ for $n > 0$.\n",
    "\n",
    "The classification into non-recursive and recursive systems has far reaching implications on the theory and practical realization of recursive systems. The feedback of past output samples in recursive systems for instance, may lead to instabilities and numerical issues. The former are discussed in detail later."
   ]
  },
  {
   "cell_type": "markdown",
   "metadata": {},
   "source": [
    "### Examples\n",
    "\n",
    "Some examples for discrete systems defined by their input/output relation formulated in terms of a linear difference equation are given in the following."
   ]
  },
  {
   "cell_type": "markdown",
   "metadata": {},
   "source": [
    "#### Delay\n",
    "\n",
    "The output signal $y[k] = \\mathcal{H} \\{ x[k] \\}$ of a discrete system which delays the input $x[k]$ by $\\kappa \\in \\mathbb{N}$ samples is given as\n",
    "\n",
    "\\begin{equation}\n",
    "y[k] = x[k - \\kappa]\n",
    "\\end{equation}\n",
    "\n",
    "The order of the system is $N=0$. The coefficients of the linear difference equation read\n",
    "\n",
    "\\begin{align}\n",
    "a_0 &= 1 \\\\\n",
    "b_m &= \\begin{cases}\n",
    "1 & \\text{for } m=\\kappa \\\\\n",
    "0 & \\text{otherwise}\n",
    "\\end{cases}\n",
    "\\end{align}\n",
    "\n",
    "The system is non-recursive as can be deduced from its coefficients.\n",
    "\n",
    "The output signal $y[k]$ for a cosine signal at the input $x[k] = \\cos[\\Omega k]$ is computed by solving the difference equation for zero initial conditions and $\\kappa = 5$. The Python module [`scipy.signal`](http://docs.scipy.org/doc/scipy/reference/signal.html) offers various functionality for continuous and discrete systems. The function [`scipy.signal.filter`](http://docs.scipy.org/doc/scipy/reference/generated/scipy.signal.lfilter.html#scipy.signal.lfilter) implements above formula for the computation of the output signal $y[k]$ of a discrete LTI system given its coefficients and initial conditions. The coefficients $a_n$ and $b_m$ of the system are stored in the vectors `a` and `b`."
   ]
  },
  {
   "cell_type": "code",
   "execution_count": 1,
   "metadata": {
    "collapsed": false
   },
   "outputs": [],
   "source": [
    "%matplotlib inline\n",
    "import numpy as np\n",
    "from scipy import signal\n",
    "import matplotlib.pyplot as plt\n",
    "\n",
    "a = 1.0\n",
    "b = [0.0, 0.0, 0.0, 0.0, 1.0]\n",
    "\n",
    "k = np.arange(30)\n",
    "x = np.cos(2*np.pi/15 * k)\n",
    "y = signal.lfilter(b, a, x)"
   ]
  },
  {
   "cell_type": "markdown",
   "metadata": {},
   "source": [
    "The input $x[k]$ and output signal $y[k]$ are plotted for illustration."
   ]
  },
  {
   "cell_type": "code",
   "execution_count": 2,
   "metadata": {
    "collapsed": false
   },
   "outputs": [
    {
     "data": {
      "image/png": "[encoded data removed]",
      "text/plain": [
       "<matplotlib.figure.Figure at 0x1098de3c8>"
      ]
     },
     "metadata": {},
     "output_type": "display_data"
    }
   ],
   "source": [
    "plt.figure(figsize=(10,4))\n",
    "plt.subplot(121)\n",
    "plt.stem(k, x)\n",
    "plt.xlabel('$k$')\n",
    "plt.ylabel(r'$x[k]$')\n",
    "plt.ylim([-1.1, 1.1])\n",
    "\n",
    "plt.subplot(122)\n",
    "plt.stem(k, y)\n",
    "plt.xlabel('$k$')\n",
    "plt.ylabel('$y[k]$')\n",
    "plt.ylim([-1.1, 1.1])\n",
    "plt.tight_layout()"
   ]
  },
  {
   "cell_type": "markdown",
   "metadata": {},
   "source": [
    "**Exercise**\n",
    "\n",
    "* Change the delay $\\kappa$ of the system and rerun the example."
   ]
  },
  {
   "cell_type": "markdown",
   "metadata": {},
   "source": [
    "#### Moving Average\n",
    "\n",
    "The [moving average](https://en.wikipedia.org/wiki/Moving_average) of a time-series is frequently used to smooth out short-term fluctuations and to work out longer-term trends. A system which calculates the moving average of its input signal $x[k]$ is represented by\n",
    "\n",
    "\\begin{equation}\n",
    "y[k] = \\frac{1}{N} \\sum_{\\kappa = 0}^{N-1} x[k - \\kappa]\n",
    "\\end{equation}\n",
    "\n",
    "The order of the system is $N=0$. The coefficients of the linear difference equation read\n",
    "\n",
    "\\begin{align}\n",
    "a_0 &= 1 \\\\\n",
    "b_m &= \\begin{cases}\n",
    "\\frac{1}{N} & \\text{for } 0 \\leq m < N \\\\\n",
    "0 & \\text{otherwise}\n",
    "\\end{cases}\n",
    "\\end{align}\n",
    "\n",
    "The system is non-recursive as can be deduced from its coefficients. The output of the system for a cosine signal at the input superimposed with noise is computed as illustration of the functionality of the moving average."
   ]
  },
  {
   "cell_type": "code",
   "execution_count": 3,
   "metadata": {
    "collapsed": false
   },
   "outputs": [
    {
     "data": {
      "image/png": "[encoded data removed]",
      "text/plain": [
       "<matplotlib.figure.Figure at 0x109e34e80>"
      ]
     },
     "metadata": {},
     "output_type": "display_data"
    }
   ],
   "source": [
    "np.random.seed(seed=0)\n",
    "\n",
    "N = 10\n",
    "a = [1.0]\n",
    "b = 1/N * np.ones(N)\n",
    "\n",
    "k = np.arange(0, 60)\n",
    "x = np.cos(2*np.pi/30 * k) + .2 * np.random.normal(size=(len(k)))\n",
    "y = signal.lfilter(b, a, x)\n",
    "\n",
    "plt.figure(figsize=(10,4))\n",
    "plt.subplot(121)\n",
    "plt.stem(k, x)\n",
    "plt.xlabel('$k$')\n",
    "plt.ylabel(r'$x[k]$')\n",
    "plt.ylim([-1.5, 1.5])\n",
    "\n",
    "plt.subplot(122)\n",
    "plt.stem(k, y)\n",
    "plt.xlabel('$k$')\n",
    "plt.ylabel('$y[k]$')\n",
    "plt.ylim([-1.5, 1.5])\n",
    "plt.tight_layout()"
   ]
  },
  {
   "cell_type": "markdown",
   "metadata": {},
   "source": [
    "**Exercise**\n",
    "\n",
    "* Change the length `N` of the moving average. How does the output of the system change?"
   ]
  },
  {
   "cell_type": "markdown",
   "metadata": {},
   "source": [
    "#### Second-Order System\n",
    "\n",
    "The recursive LTI system with the following linear difference equation is given\n",
    "\n",
    "\\begin{equation}\n",
    "y[k] - y[k-1] + \\frac{1}{2} y[k-2] = x[k]\n",
    "\\end{equation}\n",
    "\n",
    "The order of the system is $N=2$. The coefficients of the system can be derived from its difference equation as $a_0 = 1$, $a_1 = -1$, $a_2 = \\frac{1}{2}$ and $b_0 = 1$. The output signal for a rectangular signal $\\text{rect}_{20}[k]$ at the input $x[k]$ is computed and plotted for zero initial conditions."
   ]
  },
  {
   "cell_type": "code",
   "execution_count": 4,
   "metadata": {
    "collapsed": false
   },
   "outputs": [
    {
     "data": {
      "image/png": "[encoded data removed]",
      "text/plain": [
       "<matplotlib.figure.Figure at 0x10a28e978>"
      ]
     },
     "metadata": {},
     "output_type": "display_data"
    }
   ],
   "source": [
    "def rect(k, N):\n",
    "    return np.where((k>=0) & (k<N), 1.0, 0.0)\n",
    "\n",
    "a = [1.0, -1.0, 1/2]\n",
    "b = [1.0]\n",
    "\n",
    "k = np.arange(0, 40)\n",
    "x = rect(k, 20)\n",
    "y = signal.lfilter(b, a, x)\n",
    "\n",
    "plt.figure(figsize=(10,4))\n",
    "plt.subplot(121)\n",
    "plt.stem(k, x)\n",
    "plt.xlabel('$k$')\n",
    "plt.ylabel(r'$x[k]$')\n",
    "plt.ylim([-0.7, 2.6])\n",
    "\n",
    "plt.subplot(122)\n",
    "plt.stem(k, y)\n",
    "plt.xlabel('$k$')\n",
    "plt.ylabel('$y[k]$')\n",
    "plt.ylim([-0.7, 2.6])\n",
    "plt.tight_layout()"
   ]
  },
  {
   "cell_type": "markdown",
   "metadata": {
    "nbsphinx": "hidden"
   },
   "source": [
    "### Copyright\n",
    "\n",
    "<p xmlns:dct=\"http://purl.org/dc/terms/\">\n",
    "  <a rel=\"license\"\n",
    "     href=\"http://creativecommons.org/publicdomain/zero/1.0/\">\n",
    "    <img src=\"http://i.creativecommons.org/p/zero/1.0/88x31.png\" style=\"border-style: none;\" alt=\"CC0\" />\n",
    "  </a>\n",
    "  <br />\n",
    "  To the extent possible under law,\n",
    "  <span rel=\"dct:publisher\" resource=\"[_:publisher]\">the person who associated CC0</span>\n",
    "  with this work has waived all copyright and related or neighboring\n",
    "  rights to this work.\n",
    "</p>"
   ]
  }
 ],
 "metadata": {
  "kernelspec": {
   "display_name": "Python 3",
   "language": "python",
   "name": "python3"
  },
  "language_info": {
   "codemirror_mode": {
    "name": "ipython",
    "version": 3
   },
   "file_extension": ".py",
   "mimetype": "text/x-python",
   "name": "python",
   "nbconvert_exporter": "python",
   "pygments_lexer": "ipython3",
   "version": "3.5.1"
  }
 },
 "nbformat": 4,
 "nbformat_minor": 0
}
