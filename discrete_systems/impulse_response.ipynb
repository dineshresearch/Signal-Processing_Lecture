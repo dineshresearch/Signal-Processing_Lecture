{
 "cells": [
  {
   "cell_type": "markdown",
   "metadata": {
    "nbsphinx": "hidden"
   },
   "source": [
    "# Characterization of Discrete Systems\n",
    "\n",
    "*This Jupyter notebook is part of a [collection of notebooks](../index.ipynb) in the bachelors module Signals and Systems, Comunications Engineering, Universität Rostock. Please direct questions and suggestions to [Sascha.Spors@uni-rostock.de](mailto:Sascha.Spors@uni-rostock.de).*"
   ]
  },
  {
   "cell_type": "markdown",
   "metadata": {},
   "source": [
    "## Impulse Response\n",
    "\n",
    "The concept of the so-called impulse response of discrete linear time-invariant (LTI) system and its connection to linear difference equations is introduced in the following."
   ]
  },
  {
   "cell_type": "markdown",
   "metadata": {},
   "source": [
    "### Output Signal\n",
    "\n",
    "The response $y[k] = \\mathcal{H} \\{ x[k] \\}$ of an LTI system to an arbitrary input signal $x[k]$ is derived. By applying the [sifting-property of the discrete Dirac impulse](../discrete_signals/standard_signals.ipynb#Dirac-Impulse), the input signal can be represented as\n",
    "\n",
    "\\begin{equation}\n",
    "x[k] = \\sum_{\\kappa = -\\infty}^{\\infty} x[\\kappa] \\cdot \\delta[k-\\kappa]\n",
    "\\end{equation}\n",
    "\n",
    "The output signal of the system is given by\n",
    "\n",
    "\\begin{equation}\n",
    "y[k] = \\mathcal{H} \\left\\{ \\sum_{\\kappa = -\\infty}^{\\infty} x[\\kappa] \\cdot \\delta[k-\\kappa] \\right\\}\n",
    "\\end{equation}\n",
    "\n",
    "The summation and system response operator $\\mathcal{H}$ can be exchanged under the assumption that the system is linear\n",
    "\n",
    "\\begin{equation}\n",
    "y[k] = \\sum_{\\kappa = -\\infty}^{\\infty} x[\\kappa] \\cdot \\mathcal{H} \\left\\{ \\delta[k-\\kappa] \\right\\}\n",
    "\\end{equation}\n",
    "\n",
    "where $\\mathcal{H} \\{\\cdot\\}$ was only applied to the Dirac impulse, since $x[\\kappa]$ can be regarded as constant factor with respect to the index $k$.\n",
    "\n",
    "The response of a system to a Dirac impulse as input is termed [*impulse response*](https://en.wikipedia.org/wiki/Impulse_response). It is defined as\n",
    "\n",
    "\\begin{equation}\n",
    "h[k] = \\mathcal{H} \\left\\{ \\delta[k] \\right\\}\n",
    "\\end{equation}\n",
    "\n",
    "If the system is time-invariant, the response to a shifted Diract impulse is $\\mathcal{H} \\left\\{ \\delta[k-\\kappa]) \\right\\} = h[k-\\kappa]$. Hence, for a discrete LTI system we finally get\n",
    "\n",
    "\\begin{equation}\n",
    "y[k] = \\sum_{\\kappa = -\\infty}^{\\infty} x[\\kappa] \\cdot h[k-\\kappa] = y[k] = x[k] * h[k]\n",
    "\\end{equation}\n",
    "\n",
    "This operation is termed as linear [*convolution*](https://en.wikipedia.org/wiki/Convolution) and commonly abbreviated by $*$. The properties of an LTI system are entirely characterized by its impulse response. The response $y[k]$ of a system to an arbitrary input signal $x[k]$ is given by the convolution of the input signal $x[k]$ with its impulse response $h[k]$."
   ]
  },
  {
   "cell_type": "markdown",
   "metadata": {},
   "source": [
    "### Relation to Difference Equation\n",
    "\n",
    "The impulse response $h[k] = \\mathcal{H} \\{ \\delta[k] \\}$ is the response of an LTI system to an Dirac impulse at the input. It can be derived from the coefficients of a [linear differential equation representing the LTI system](difference_equation.ipynb) by computing the output signal for the input signal $x[k] = \\delta[k]$. Introducing this into the [solution of the difference equation](difference_equation.ipynb#Computation-of-the-Output-Signal) yields\n",
    "\n",
    "\\begin{equation}\n",
    "h[k] = \\frac{1}{a_0} \\left( \\sum_{m=0}^{M} b_m \\; \\delta[k-m] - \\sum_{n=1}^{N} a_n \\; h[k-n] \\right)\n",
    "\\end{equation}"
   ]
  },
  {
   "cell_type": "markdown",
   "metadata": {},
   "source": [
    "### Finite Impulse Response\n",
    "\n",
    "Let's consider the case of a [non-recursive system](difference_equation.ipynb#Recursive-and-Non-Recursive-Systems) with $a_n = 0$ for $n > 0$. Without loss of generality it can be assumed that $a_0 = 1$, since $\\frac{1}{a_0}$ can be incorporated into the other coefficients. The impulse response is given as\n",
    "\n",
    "\\begin{equation}\n",
    "h[k] = \\sum_{m=0}^{M} b_m \\; \\delta[k-m] = \\begin{cases} b_k & \\text{for } 0 \\leq k < M \\\\ 0 & \\text{otherwise} \\end{cases}\n",
    "\\end{equation}\n",
    "\n",
    "The impulse response of a non-recursive system is of finite length $M$. Its values are given by the coefficients $b_m$ of the system. An impulse response of finite length is commonly termed [finite impulse response (FIR)](https://en.wikipedia.org/wiki/Finite_impulse_response). The term FIR (system) is used synonymously to non-recursive system. The former relates to the length of the impulse response and the latter to the structure of the system. Note that the summation in above formula constitutes a convolution."
   ]
  },
  {
   "cell_type": "markdown",
   "metadata": {},
   "source": [
    "**Example**\n",
    "\n",
    "According to above result, the impulse response of the [moving average filter](difference_equation.ipynb#Moving-Average) is given as\n",
    "\n",
    "\\begin{equation}\n",
    "h[k] = \\frac{1}{N} \\cdot \\text{rect}_N[k]\n",
    "\\end{equation}\n",
    "\n",
    "As alternative to the [solution of the difference equation illustrated before](difference_equation.ipynb#Moving-Average), the output signal $y[k] = \\mathcal{H} \\{ y[k] \\}$ is computed by convolution for the same input signal."
   ]
  },
  {
   "cell_type": "code",
   "execution_count": 1,
   "metadata": {
    "collapsed": false
   },
   "outputs": [
    {
     "data": {
      "image/png": "[encoded data removed]",
      "text/plain": [
       "<matplotlib.figure.Figure at 0x109595fd0>"
      ]
     },
     "metadata": {},
     "output_type": "display_data"
    }
   ],
   "source": [
    "%matplotlib inline\n",
    "import numpy as np\n",
    "from scipy import signal\n",
    "import matplotlib.pyplot as plt\n",
    "\n",
    "def rect(k, N):\n",
    "    return np.where((k>=0) & (k<N), 1.0, 0.0)\n",
    "\n",
    "np.random.seed(seed=0)\n",
    "\n",
    "N = 10\n",
    "\n",
    "k = np.arange(0, 60)\n",
    "h = 1/N * rect(k, N)\n",
    "x = np.cos(2*np.pi/30 * k) + .2 * np.random.normal(size=(len(k)))\n",
    "y = np.convolve(x, h)\n",
    "\n",
    "plt.figure(figsize=(10,4))\n",
    "plt.subplot(121)\n",
    "plt.stem(k, x)\n",
    "plt.xlabel('$k$')\n",
    "plt.ylabel(r'$x[k]$')\n",
    "plt.ylim([-1.5, 1.5])\n",
    "\n",
    "plt.subplot(122)\n",
    "plt.stem(k, y[0:len(x)])\n",
    "plt.xlabel('$k$')\n",
    "plt.ylabel('$y[k]$')\n",
    "plt.ylim([-1.5, 1.5])\n",
    "plt.tight_layout()"
   ]
  },
  {
   "cell_type": "markdown",
   "metadata": {},
   "source": [
    "**Exercise**\n",
    "\n",
    "* Compare above output signal $y[k]$ derived by convolution with the output signal derived by [solution of the difference equation](difference_equation.ipynb#Moving-Average)."
   ]
  },
  {
   "cell_type": "markdown",
   "metadata": {},
   "source": [
    "### Infinite Impulse Response\n",
    "\n",
    "Now the general case of a [recursive system](difference_equation.ipynb#Recursive-and-Non-Recursive-Systems) is regarded. By inspection of above formula for the computation of the impulse response from the coefficients of a linear difference equation it becomes clear that the impulse response $h[k]$ for time-instant $k$ depends on the impulse response of past time instants $(k-1) \\dots (k-N+1)$. This feedback generally results in an impulse response of infinite length. Such an impulse response is commonly termed as [infinite impulse response (IIR)](https://en.wikipedia.org/wiki/Infinite_impulse_response). The term IIR (system) is used synonymously to recursive system. The former relates to the length of the impulse response and the latter to the structure of the system.\n",
    "\n",
    "For a finite-length input signal $x[k]$ the output signal of a recursive system cannot be computed by a linear convolution $y[k] = x[k] * h[k]$ in practice. This is due to the infinite length of its impulse response. As practical solution, the impulse response is often truncated to a finite length after its has decayed reasonably."
   ]
  },
  {
   "cell_type": "markdown",
   "metadata": {},
   "source": [
    "**Example**\n",
    "\n",
    "The impulse response $h[k]$ of the previously introduced [second-order recursive LTI system](difference_equation.ipynb#Second-Order-System) with the difference equation\n",
    "\n",
    "\\begin{equation}\n",
    "y[k] - y[k-1] + \\frac{1}{2} y[k-2] = x[k]\n",
    "\\end{equation}\n",
    "\n",
    "is derived by solution of the difference equation for a Dirac impulse as input signal. As can be deduced from its difference equation, the second-order recursive system has an IIR. Its first 256 samples are computed and plotted in the following. Note, less samples have been shown for ease of illustration."
   ]
  },
  {
   "cell_type": "code",
   "execution_count": 2,
   "metadata": {
    "collapsed": false
   },
   "outputs": [
    {
     "data": {
      "image/png": "[encoded data removed]",
      "text/plain": [
       "<matplotlib.figure.Figure at 0x10b5dc438>"
      ]
     },
     "metadata": {},
     "output_type": "display_data"
    }
   ],
   "source": [
    "def dirac(k):\n",
    "    return np.where(k==0, 1.0, 0.0)\n",
    "\n",
    "a = [1.0, -1.0, 1/2]\n",
    "b = [1.0]\n",
    "\n",
    "k = np.arange(0, 256)\n",
    "x = dirac(k)\n",
    "h = signal.lfilter(b, a, x)\n",
    "\n",
    "plt.figure(figsize=(6,3))\n",
    "plt.stem(k, h)\n",
    "plt.xlabel('$k$')\n",
    "plt.ylabel(r'$h[k]$');\n",
    "plt.axis([0, 20, -.5, 1.2]);"
   ]
  },
  {
   "cell_type": "markdown",
   "metadata": {},
   "source": [
    "In order to illustrate the decay of the impulse response, its magnitude $A[k]$ is plotted in [decibel (dB)](https://en.wikipedia.org/wiki/Decibel)\n",
    "\n",
    "\\begin{equation}\n",
    "A[k] = 20 \\cdot \\log_{10} ( |h[k]| ) \\quad \\text{in dB}\n",
    "\\end{equation}"
   ]
  },
  {
   "cell_type": "code",
   "execution_count": 3,
   "metadata": {
    "collapsed": false
   },
   "outputs": [
    {
     "data": {
      "image/png": "[encoded data removed]",
      "text/plain": [
       "<matplotlib.figure.Figure at 0x10b45f5f8>"
      ]
     },
     "metadata": {},
     "output_type": "display_data"
    }
   ],
   "source": [
    "import warnings\n",
    "warnings.filterwarnings('ignore', 'divide by zero encountered in log10')\n",
    "\n",
    "plt.figure(figsize=(10,4))\n",
    "plt.stem(k, 20*np.log10(np.abs(h)))\n",
    "plt.xlabel('$k$')\n",
    "plt.ylabel(r'$|h[k]|$ in dB')\n",
    "plt.axis([0, k[-1], -800, 0])\n",
    "plt.grid();"
   ]
  },
  {
   "cell_type": "markdown",
   "metadata": {},
   "source": [
    "Its obvious that the magnitude of the impulse response has decayed to quite small values after 256 samples. The truncated impulse response can be used to calculate the output signal $y[k]$ by convolution with the input signal $x[k] = \\text{rect}_{20}[k]$. The resulting output signal is plotted for illustration."
   ]
  },
  {
   "cell_type": "code",
   "execution_count": 4,
   "metadata": {
    "collapsed": false
   },
   "outputs": [
    {
     "data": {
      "image/png": "[encoded data removed]",
      "text/plain": [
       "<matplotlib.figure.Figure at 0x10ba3f048>"
      ]
     },
     "metadata": {},
     "output_type": "display_data"
    }
   ],
   "source": [
    "def rect(k, N):\n",
    "    return np.where((k>=0) & (k<N), 1.0, 0.0)\n",
    "\n",
    "x = rect(k, 20)\n",
    "y_ir = np.convolve(h, x)\n",
    "\n",
    "plt.figure(figsize=(6,3))\n",
    "plt.stem(k, y_ir[:len(k)])\n",
    "plt.xlabel('$k$')\n",
    "plt.ylabel(r'$y[k]$')\n",
    "plt.axis([0, 40, -.7, 2.6]);"
   ]
  },
  {
   "cell_type": "markdown",
   "metadata": {},
   "source": [
    "**Exercise**\n",
    "\n",
    "* Compare the output signal computed by convolution with the one [computed by solution of the difference equation](difference_equation.ipynb#Second-Order-System).\n",
    "\n",
    "* Investigate the effect of truncating an IIR on the output signal computed by convolution\n",
    "\n",
    "    * Split the IIR $h[k]$ into two parts: a first part holding the samples of the truncated impulse response and second part holding the remaining samples\n",
    "    * Split the output signal into to parts by splitting the convolution using the splitted impulse response"
   ]
  },
  {
   "cell_type": "markdown",
   "metadata": {
    "nbsphinx": "hidden"
   },
   "source": [
    "### Copyright\n",
    "\n",
    "<p xmlns:dct=\"http://purl.org/dc/terms/\">\n",
    "  <a rel=\"license\"\n",
    "     href=\"http://creativecommons.org/publicdomain/zero/1.0/\">\n",
    "    <img src=\"http://i.creativecommons.org/p/zero/1.0/88x31.png\" style=\"border-style: none;\" alt=\"CC0\" />\n",
    "  </a>\n",
    "  <br />\n",
    "  To the extent possible under law,\n",
    "  <span rel=\"dct:publisher\" resource=\"[_:publisher]\">the person who associated CC0</span>\n",
    "  with this work has waived all copyright and related or neighboring\n",
    "  rights to this work.\n",
    "</p>"
   ]
  }
 ],
 "metadata": {
  "kernelspec": {
   "display_name": "Python 3",
   "language": "python",
   "name": "python3"
  },
  "language_info": {
   "codemirror_mode": {
    "name": "ipython",
    "version": 3
   },
   "file_extension": ".py",
   "mimetype": "text/x-python",
   "name": "python",
   "nbconvert_exporter": "python",
   "pygments_lexer": "ipython3",
   "version": "3.5.1"
  }
 },
 "nbformat": 4,
 "nbformat_minor": 0
}
