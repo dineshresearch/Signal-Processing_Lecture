{
 "cells": [
  {
   "cell_type": "markdown",
   "metadata": {
    "nbsphinx": "hidden"
   },
   "source": [
    "# Discrete Signals\n",
    "\n",
    "*This Jupyter notebook is part of a [collection of notebooks](../index.ipynb) in the bachelors module Signals and Systems, Comunications Engineering, Universität Rostock. Please direct questions and suggestions to [Sascha.Spors@uni-rostock.de](mailto:Sascha.Spors@uni-rostock.de).*"
   ]
  },
  {
   "cell_type": "markdown",
   "metadata": {},
   "source": [
    "## Standard Signals\n",
    "\n",
    "A discrete signal $x[k] \\in \\mathbb{C}$ is a sequence of values that depends on the discrete index $k \\in \\mathbb{Z}$. It may have been derived by [sampling](../sampling/ideal.ipynb) $x[k] := x(k T)$ from a continuous signal $x(t)$. As for the case of continuous signals, certain [standard signals](../continuous_signals/standard_signals.ipynb) play an important role in the theory and practical application of discrete signals and systems. These standard signals are introduced and illustrated in the following. Some of the signals are derived by sampling their continuous counterparts, some of them by postulating equivalent properties. Discrete signals are commonly denoted by using square brackets for their arguments."
   ]
  },
  {
   "cell_type": "markdown",
   "metadata": {},
   "source": [
    "### Complex Exponential Signal\n",
    "\n",
    "The discrete complex exponential signal is defined by the [complex exponential function](https://en.wikipedia.org/wiki/Exponential_function#Complex_plane)\n",
    "\n",
    "\\begin{equation}\n",
    "x[k] = e^{(\\Sigma + j \\Omega) \\, k} = z^k\n",
    "\\end{equation}\n",
    "\n",
    "where $z = e^{\\Sigma + j \\Omega}$ denotes the complex frequency $z \\in \\mathbb{C}$ with $\\Sigma, \\Omega \\in \\mathbb{R}$. The discrete complex exponential signal can be related to the [continuous complex exponential signal](../continuous_signals/standard_signals.ipynb#Complex-Exponential-Signal) $x(t) = e^{(\\sigma + j \\omega) t}$ by sampling\n",
    "\n",
    "\\begin{equation}\n",
    "x[k] = x(k T) = e^{(\\sigma + j \\omega) k T} = e^{( \\sigma T + j \\omega T ) k}\n",
    "\\end{equation}\n",
    "\n",
    "where $T$ denotes the sampling interval. Comparison to above definition of the discrete signal reveals that $\\Sigma = \\sigma T$ and $\\Omega = \\omega T$. Due to this relation, the latter is termed as *normalized frequency* $\\Omega$. Using [Euler's formula](https://en.wikipedia.org/wiki/Euler's_formula), the definition of the complex exponential signal can be reformulated as\n",
    "\n",
    "\\begin{equation}\n",
    "x[k] = e^{\\Sigma k} \\cos[\\Omega k] + j e^{\\Sigma k} \\sin[\\Omega k]\n",
    "\\end{equation}\n",
    "\n",
    "The real/imaginary part of the exponential signal is given by a weighted discrete cosine/sine with normalized frequency $\\Omega$. The normalized frequency $\\Omega$ is ambiguous due to the periodicity of the cosine/sine function for discrete $k$. For instance\n",
    "\n",
    "\\begin{equation}\n",
    "\\cos[\\Omega k] = \\cos[(\\Omega + n \\cdot 2 \\pi) \\cdot k]\n",
    "\\end{equation}\n",
    "\n",
    "with $n \\in \\mathbb{Z}$. It can be concluded that the normalized frequency $\\Omega$ is unique for $-\\pi < \\Omega < \\pi$. This also becomes evident when considering the sampling of a continuous exponential signal, as shown above. For [critical sampling](../sampling/ideal.ipynb#Sampling-Theorem-for-Low-Pass-Signals) the sampling frequency $\\omega_\\text{s} = 2 \\cdot \\omega$. From $T = \\frac{2 \\pi}{\\omega_\\text{s}}$ follows $\\Omega = \\omega T = \\pi$. It can be concluded that the normalized frequency $\\Omega = \\pm \\pi$ represents the highest/lowest normalized frequency a sampled signal can represent.\n",
    "\n",
    "The complex exponential function is only periodic with respect to the discrete index $k$, if\n",
    "\n",
    "\\begin{equation}\n",
    "x[k] = x[k + n \\cdot N_\\text{p}]\n",
    "\\end{equation}\n",
    "\n",
    "holds for $n \\in \\mathbb{Z}$ and $N_\\text{p} \\in \\mathbb{N}$. The periodicity of the complex exponential function is given as\n",
    "\n",
    "\\begin{equation}\n",
    "N_\\text{p} = \\frac{2 \\pi}{\\Omega}\n",
    "\\end{equation}\n",
    "\n",
    "It follows from the requirement $N_\\text{p} \\in \\mathbb{N}$ for a periodic sequence, that not all normalized frequencies $\\Omega$ result in a periodic discrete complex exponential signal. Only $\\Omega = \\frac{2 \\pi}{N_\\text{p}}$ with $N_\\text{p} \\in \\mathbb{N}$ is periodic with period $N_\\text{p}$. Sampling of a continuous complex exponential signal may result in an aperiodic discrete complex exponential signal.\n",
    "\n",
    "The complex exponential signal can be expressed in terms of its magnitude and phase\n",
    "\n",
    "\\begin{equation}\n",
    "x[k] = z^k = |z|^k \\cdot e^{j \\varphi(z) k}\n",
    "\\end{equation}\n",
    "\n",
    "where by comparison with its definition $|z| = |e^\\Sigma|$ and $\\varphi(z) = \\Omega$. This finding allows an interpretation of the complex frequency $z$. Its phase $\\varphi(z)$ is equal to the normalized frequency $\\Omega$ of its harmonic part $e^{j \\Omega k}$. This is weighted by the magnitude $|z|^k$. With increasing index $k >0$, the magnitude of the complex exponential signal is\n",
    "\n",
    "* exponentially decaying for $|z| < 1$ ($\\Sigma < 0$)\n",
    "* constantly one for $|z| = 1$ ($\\Sigma = 0$)\n",
    "* exponentially growing for $|z| > 1$ ($\\Sigma > 0$)."
   ]
  },
  {
   "cell_type": "markdown",
   "metadata": {},
   "source": [
    "**Example**\n",
    "\n",
    "This example illustrates the discrete complex exponential signal and its parameters. The Python module [NumPy](http://www.numpy.org/) provides functionality for numerical mathematics. In discrete signal processing it is common  to define discrete signals as vectors holding the values $x[k]$ for a given set of indexes $k$. Two functions are defined as prerequisite. One for the generation of the exponential signal and one to plot its real and imaginary part."
   ]
  },
  {
   "cell_type": "code",
   "execution_count": 1,
   "metadata": {
    "collapsed": true
   },
   "outputs": [],
   "source": [
    "%matplotlib inline\n",
    "import numpy as np\n",
    "import matplotlib.pyplot as plt\n",
    "\n",
    "def exponential_signal(k, Sigma, Omega):\n",
    "    return np.exp((Sigma + 1j * Omega) * k)\n",
    "\n",
    "def plot_signal(k, x):\n",
    "    plt.figure(figsize=(10, 4))\n",
    "    plt.subplot(121)\n",
    "    plt.stem(k, np.real(x))\n",
    "    plt.xlabel('$k$')\n",
    "    plt.ylabel(r'$\\Re \\{ x[k] \\}$')\n",
    "\n",
    "    plt.subplot(122)\n",
    "    plt.stem(k, np.imag(x))\n",
    "    plt.xlabel('$k$')\n",
    "    plt.ylabel(r'$\\Im \\{ x[k] \\}$')\n",
    "    plt.tight_layout()"
   ]
  },
  {
   "cell_type": "markdown",
   "metadata": {},
   "source": [
    "The vector `x` is populated by the samples of the exponential signal for a given set of indexes $k$, $\\Sigma = 0.025$ and $\\Omega = 0.5$. Its first ten values are printed for illustration."
   ]
  },
  {
   "cell_type": "code",
   "execution_count": 2,
   "metadata": {},
   "outputs": [
    {
     "data": {
      "text/plain": [
       "array([ 1.00000000+0.j        ,  0.89979867+0.49156225j,\n",
       "        0.56800420+0.88461412j,  0.07624651+1.07518404j,\n",
       "       -0.45991338+1.00492907j, -0.90781465+0.67815778j,\n",
       "       -1.15020718+0.16395806j, -1.11555049-0.41786919j,\n",
       "       -0.79836212-0.92436066j, -0.26398437-1.22418317j])"
      ]
     },
     "execution_count": 2,
     "metadata": {},
     "output_type": "execute_result"
    }
   ],
   "source": [
    "k = np.arange(31)\n",
    "x = exponential_signal(k, 0.025, 0.5)\n",
    "x[:10]"
   ]
  },
  {
   "cell_type": "markdown",
   "metadata": {},
   "source": [
    "Discrete signals are commonly visualized by '*stem*'-plots. The Python module [`matplotlib`](http://matplotlib.org/) is used for this purpose. The real and imaginary part of the complex exponential signal is shown by the left and right plot, respectively."
   ]
  },
  {
   "cell_type": "code",
   "execution_count": 3,
   "metadata": {},
   "outputs": [
    {
     "data": {
      "image/png": "[encoded data removed]",
      "text/plain": [
       "<matplotlib.figure.Figure at 0x110fd5358>"
      ]
     },
     "metadata": {},
     "output_type": "display_data"
    }
   ],
   "source": [
    "plot_signal(k, x)"
   ]
  },
  {
   "cell_type": "markdown",
   "metadata": {},
   "source": [
    "Now the case of an aperiodic harmonic exponential signal with $N_\\text{p} \\notin \\mathbb{N}$ is illustrated for $\\Sigma = 0$. Again the left and right plot show the real and imaginary part."
   ]
  },
  {
   "cell_type": "code",
   "execution_count": 4,
   "metadata": {},
   "outputs": [
    {
     "data": {
      "image/png": "[encoded data removed]",
      "text/plain": [
       "<matplotlib.figure.Figure at 0x112dd13c8>"
      ]
     },
     "metadata": {},
     "output_type": "display_data"
    }
   ],
   "source": [
    "Np = 20.55\n",
    "x = exponential_signal(k, 0, 2 * np.pi / Np)\n",
    "plot_signal(k, x)"
   ]
  },
  {
   "cell_type": "markdown",
   "metadata": {},
   "source": [
    "**Exercise**\n",
    "\n",
    "* Change the values of $\\Sigma$ in the first example in order to create a signal with increasing/constant/decaying amplitude.\n",
    "* Check if the stated non-uniqueness of the normalized frequency $\\Omega$ holds by adding multiples of $2 \\pi$ and plotting the resulting signal."
   ]
  },
  {
   "cell_type": "markdown",
   "metadata": {},
   "source": [
    "### Dirac Impulse\n",
    "\n",
    "The discrete Dirac impulse $\\delta[k]$ cannot be derived by sampling from its [continuous counterpart](../continuous_signals/standard_signals.ipynb#Dirac-Impulse), since the [Dirac delta function](https://en.wikipedia.org/wiki/Dirac_delta_function) is a distribution and not a function in the conventional sense. The discrete Dirac impulse is defined as\n",
    "\n",
    "\\begin{equation}\n",
    "\\delta[k] = \\begin{cases}\n",
    "1 & \\text{for } k = 0 \\\\\n",
    "0 & \\text{otherwise}\n",
    "\\end{cases}\n",
    "\\end{equation}\n",
    "\n",
    "This function is also known as [*Kronecker delta*](https://en.wikipedia.org/wiki/Kronecker_delta), the signal as *impulse sequence* or *unit impulse*. The discrete Dirac impulse $\\delta[k]$ maintains the essential properties of its continuous counterpart $\\delta(t)$. In particular\n",
    "\n",
    "1. **Sifting property**\n",
    "    \\begin{equation}\n",
    "    \\sum_{\\kappa = -\\infty}^{\\infty} x[\\kappa] \\cdot \\delta[k - \\kappa] = x[k]\n",
    "    \\end{equation}\n",
    "    The sifting property implies $\\sum_{\\kappa = -\\infty}^{\\infty} x[\\kappa] = 1$.\n",
    "    \n",
    "2. **Multiplication**\n",
    "    \\begin{equation}\n",
    "    x[k] \\cdot \\delta[k - \\kappa] = x[\\kappa] \\cdot \\delta[k - \\kappa]\n",
    "    \\end{equation}\n",
    "    \n",
    "3. **Linearity**\n",
    "    \\begin{equation}\n",
    "    a \\cdot \\delta[k] + b \\cdot \\delta[k] = (a+b) \\cdot \\delta[k]\n",
    "    \\end{equation}\n",
    "\n",
    "The discrete Dirac impulse is an important signal in the theory of signals and systems. It is used for instance for the characterization of discrete LTI systems by their impulse response."
   ]
  },
  {
   "cell_type": "markdown",
   "metadata": {},
   "source": [
    "**Example**\n",
    "\n",
    "The properties of the discrete Dirac impulse are illustrated. First a function is defined for the discrete Dirac impulse and $\\delta[k]$ is plotted"
   ]
  },
  {
   "cell_type": "code",
   "execution_count": 5,
   "metadata": {},
   "outputs": [
    {
     "data": {
      "image/png": "[encoded data removed]",
      "text/plain": [
       "<matplotlib.figure.Figure at 0x1129ab518>"
      ]
     },
     "metadata": {},
     "output_type": "display_data"
    }
   ],
   "source": [
    "def dirac(k):\n",
    "    return np.where(k == 0, 1.0, 0.0)\n",
    "\n",
    "k = np.arange(-10, 11)\n",
    "x = dirac(k)\n",
    "plt.stem(k, x)\n",
    "plt.xlabel('$k$')\n",
    "plt.ylabel('$\\delta[k]$')\n",
    "plt.ylim([-0.1, 1.1]);"
   ]
  },
  {
   "cell_type": "markdown",
   "metadata": {},
   "source": [
    "Now let's check the multiplication property by defining a cosine signal $y[k] = \\cos[k]$ and computing the signal $w[k] = y[k] \\cdot \\delta[k-6]$"
   ]
  },
  {
   "cell_type": "code",
   "execution_count": 6,
   "metadata": {},
   "outputs": [
    {
     "data": {
      "image/png": "[encoded data removed]",
      "text/plain": [
       "<matplotlib.figure.Figure at 0x112f46ef0>"
      ]
     },
     "metadata": {},
     "output_type": "display_data"
    }
   ],
   "source": [
    "x = dirac(k - 6)\n",
    "y = np.cos(k)\n",
    "w = x*y\n",
    "\n",
    "plt.figure(figsize=(10, 4))\n",
    "plt.subplot(121)\n",
    "plt.stem(k, y)\n",
    "plt.xlabel('$k$')\n",
    "plt.ylabel(r'$\\cos[\\Omega k]$')\n",
    "plt.ylim([-1.1, 1.1])\n",
    "\n",
    "plt.subplot(122)\n",
    "plt.stem(k, w)\n",
    "plt.xlabel('$k$')\n",
    "plt.ylabel('$\\cos[\\Omega k] \\cdot \\delta[k - \\kappa]$')\n",
    "plt.ylim([-1.1, 1.1])\n",
    "plt.tight_layout()"
   ]
  },
  {
   "cell_type": "markdown",
   "metadata": {},
   "source": [
    "### Heaviside Signal\n",
    "\n",
    "The discrete Heaviside signal is defined similar to its [continuous Heaviside signal](../continuous_signals/standard_signals.ipynb#Heaviside-Signal) as\n",
    "\n",
    "\\begin{equation}\n",
    "\\epsilon[k] = \\begin{cases} 1 & k \\geq 0 \\\\  0 & k < 0 \\end{cases}\n",
    "\\end{equation}\n",
    "\n",
    "The Heaviside signal is used to represent a signal that switches on at a specified time and stays on indefinitely. The Heaviside signal can be related to the Dirac impulse by\n",
    "\n",
    "\\begin{equation}\n",
    "\\epsilon[k] = \\sum_{\\kappa = -\\infty}^{k} \\delta[\\kappa]\n",
    "\\end{equation}\n",
    "\n",
    "The Dirac impulse can be expressed in terms of the Heaviside signal\n",
    "\n",
    "\\begin{equation}\n",
    "\\delta[k] = \\epsilon[k] - \\epsilon[k-1]\n",
    "\\end{equation}"
   ]
  },
  {
   "cell_type": "markdown",
   "metadata": {},
   "source": [
    "**Example**\n",
    "\n",
    "In the following, a function is defined for the Heaviside signal $\\epsilon[k]$ and the signal is plotted for illustration."
   ]
  },
  {
   "cell_type": "code",
   "execution_count": 7,
   "metadata": {},
   "outputs": [
    {
     "data": {
      "image/png": "[encoded data removed]",
      "text/plain": [
       "<matplotlib.figure.Figure at 0x1130e3240>"
      ]
     },
     "metadata": {},
     "output_type": "display_data"
    }
   ],
   "source": [
    "def heaviside(k):\n",
    "    return np.where(k >= 0, 1.0, 0.0)\n",
    "\n",
    "k = np.arange(-5, 20)\n",
    "x = heaviside(k)\n",
    "\n",
    "plt.stem(k, x)\n",
    "plt.xlabel('$k$')\n",
    "plt.ylabel('$\\epsilon[k]$')\n",
    "plt.ylim([-0.1, 1.1]);"
   ]
  },
  {
   "cell_type": "markdown",
   "metadata": {},
   "source": [
    "### Rectangular Signal\n",
    "\n",
    "The discrete rectangular signal is defined as\n",
    "\n",
    "\\begin{equation}\n",
    "\\text{rect}_N[k] = \\begin{cases} 1 & \\text{for } 0 \\leq k < N \\\\ 0 & \\text{otherwise}  \\end{cases}\n",
    "\\end{equation}\n",
    "\n",
    "where $N \\in \\mathbb{N}$ denotes the number of its non-zero samples. Note that the discrete rectangular signal is not even symmetric as the [continuous rectangular signal](../continuous_signals/standard_signals.ipynb#Rectangular-Signal). The rectangular signal is used to represent signals which are non-zero for a limited period of time. The rectangular signal can be related to the Heaviside signal by\n",
    "\n",
    "\\begin{equation}\n",
    "\\text{rect}[k] = \\epsilon[k] - \\epsilon[k - N]\n",
    "\\end{equation}"
   ]
  },
  {
   "cell_type": "markdown",
   "metadata": {},
   "source": [
    "**Example**\n",
    "\n",
    "A function is defined for the rectangular signal and $\\text{rect}_5[k]$ is plotted for illustration."
   ]
  },
  {
   "cell_type": "code",
   "execution_count": 8,
   "metadata": {},
   "outputs": [
    {
     "data": {
      "image/png": "[encoded data removed]",
      "text/plain": [
       "<matplotlib.figure.Figure at 0x1129639e8>"
      ]
     },
     "metadata": {},
     "output_type": "display_data"
    }
   ],
   "source": [
    "def rect(k, N):\n",
    "    return np.where((0 <= k) & (k < N), 1.0, 0.0)\n",
    "\n",
    "k = np.arange(-5, 20)\n",
    "x = rect(k, 10)\n",
    "\n",
    "plt.stem(k, x)\n",
    "plt.xlabel('$k$')\n",
    "plt.ylabel('$\\mathrm{rect}[k]$')\n",
    "plt.ylim([-0.1, 1.1]);"
   ]
  },
  {
   "cell_type": "markdown",
   "metadata": {},
   "source": [
    "**Exercise**\n",
    "\n",
    "* Use $\\text{rect}_N[t]$ to construct a cosine signal $x[k] = \\cos[\\Omega k] \\cdot \\text{rect}_N[t]$ of one period length with $\\Omega= \\frac{2 \\pi}{10}$."
   ]
  },
  {
   "cell_type": "markdown",
   "metadata": {},
   "source": [
    "### Sign Signal\n",
    "\n",
    "The discrete sign signal is defined analogously to the [continuous sign signal](../continuous_signals/standard_signals.ipynb#Sign-Signal) as\n",
    "\n",
    "\\begin{equation}\n",
    "\\text{sgn}[k] = \\begin{cases} 1 & k>0 \\\\ 0 & k=0 \\\\ -1 & k < 0  \\end{cases}\n",
    "\\end{equation}\n",
    "\n",
    "The sign signal is used to represent the absolute value of a signal $x[k]$ as\n",
    "\n",
    "\\begin{equation}\n",
    "|x[k]| = x[k] \\cdot \\text{sgn}(x[k])\n",
    "\\end{equation}\n",
    "\n",
    "It is related to the Heaviside signal by\n",
    "\n",
    "\\begin{equation}\n",
    "\\text{sgn}[k] = \\epsilon[k] - \\epsilon[-k]\n",
    "\\end{equation}"
   ]
  },
  {
   "cell_type": "markdown",
   "metadata": {},
   "source": [
    "**Example**\n",
    "\n",
    "The sign signal is realized by using the [`numpy.sign`](http://docs.scipy.org/doc/numpy/reference/generated/numpy.sign.html#numpy.sign) function. It is plotted for illustration."
   ]
  },
  {
   "cell_type": "code",
   "execution_count": 9,
   "metadata": {},
   "outputs": [
    {
     "data": {
      "image/png": "[encoded data removed]",
      "text/plain": [
       "<matplotlib.figure.Figure at 0x112bc2390>"
      ]
     },
     "metadata": {},
     "output_type": "display_data"
    }
   ],
   "source": [
    "k = np.arange(-10, 11)\n",
    "x = np.sign(k)\n",
    "\n",
    "plt.stem(k, x)\n",
    "plt.xlabel('$k$')\n",
    "plt.ylabel('$\\mathrm{sgn}[k]$')\n",
    "plt.ylim([-1.1, 1.1]);"
   ]
  },
  {
   "cell_type": "markdown",
   "metadata": {
    "nbsphinx": "hidden"
   },
   "source": [
    "**Copyright**\n",
    "\n",
    "The notebooks are provided as [Open Educational Resource](https://de.wikipedia.org/wiki/Open_Educational_Resources). Feel free to use the notebooks for your own educational purposes. The text is licensed under [Creative Commons Attribution 4.0](https://creativecommons.org/licenses/by/4.0/), the code of the IPython examples under the [MIT license](https://opensource.org/licenses/MIT). Please attribute the work as follows: *Lecture Notes on Signals and Systems* by Sascha Spors."
   ]
  }
 ],
 "metadata": {
  "kernelspec": {
   "display_name": "Python 3",
   "language": "python",
   "name": "python3"
  },
  "language_info": {
   "codemirror_mode": {
    "name": "ipython",
    "version": 3
   },
   "file_extension": ".py",
   "mimetype": "text/x-python",
   "name": "python",
   "nbconvert_exporter": "python",
   "pygments_lexer": "ipython3",
   "version": "3.5.4"
  }
 },
 "nbformat": 4,
 "nbformat_minor": 1
}
